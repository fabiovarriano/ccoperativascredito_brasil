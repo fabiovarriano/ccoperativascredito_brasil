{
 "cells": [
  {
   "cell_type": "markdown",
   "metadata": {},
   "source": [
    "# base de dados da carteira de crédito do cooperativismo\n",
    "\n",
    "    Carregamento e preparação de dados para criar painel com carteira de crédito e benchmark das cooperativas.\n",
    "    fonte: https://dadosabertos.bcb.gov.br/dataset/scr_data"
   ]
  },
  {
   "cell_type": "code",
   "execution_count": 1,
   "metadata": {},
   "outputs": [],
   "source": [
    "# Bibliotecas, \n",
    "import pandas as pd"
   ]
  },
  {
   "cell_type": "code",
   "execution_count": 2,
   "metadata": {},
   "outputs": [],
   "source": [
    "# Foram listados os dados do mês de dezembro de cada mês e o último mês movimento do ano atual.\n",
    "#dados\n",
    "df2012 = pd.read_csv(r\"D:\\Projetos_Analytics\\01.cooperativas\\01.Coop_Brasil\\dataset\\planilha_201212.csv\", sep = ';')\n",
    "df2013 = pd.read_csv(r\"D:\\Projetos_Analytics\\01.cooperativas\\01.Coop_Brasil\\dataset\\planilha_201312.csv\", sep = ';')\n",
    "df2014 = pd.read_csv(r\"D:\\Projetos_Analytics\\01.cooperativas\\01.Coop_Brasil\\dataset\\planilha_201412.csv\", sep = ';')\n",
    "df2015 = pd.read_csv(r\"D:\\Projetos_Analytics\\01.cooperativas\\01.Coop_Brasil\\dataset\\planilha_201512.csv\", sep = ';')\n",
    "df2016 = pd.read_csv(r\"D:\\Projetos_Analytics\\01.cooperativas\\01.Coop_Brasil\\dataset\\planilha_201612.csv\", sep = ';')\n",
    "df2017 = pd.read_csv(r\"D:\\Projetos_Analytics\\01.cooperativas\\01.Coop_Brasil\\dataset\\planilha_201712.csv\", sep = ';')\n",
    "df2018 = pd.read_csv(r\"D:\\Projetos_Analytics\\01.cooperativas\\01.Coop_Brasil\\dataset\\planilha_201812.csv\", sep = ';')\n",
    "df2019 = pd.read_csv(r\"D:\\Projetos_Analytics\\01.cooperativas\\01.Coop_Brasil\\dataset\\planilha_201912.csv\", sep = ';')\n",
    "df2020 = pd.read_csv(r\"D:\\Projetos_Analytics\\01.cooperativas\\01.Coop_Brasil\\dataset\\planilha_202012.csv\", sep = ';')\n",
    "df2021 = pd.read_csv(r\"D:\\Projetos_Analytics\\01.cooperativas\\01.Coop_Brasil\\dataset\\planilha_202112.csv\", sep = ';')\n",
    "df2022 = pd.read_csv(r\"D:\\Projetos_Analytics\\01.cooperativas\\01.Coop_Brasil\\dataset\\planilha_202212.csv\", sep = ';')\n",
    "df2023 = pd.read_csv(r\"D:\\Projetos_Analytics\\01.cooperativas\\01.Coop_Brasil\\dataset\\planilha_202306.csv\", sep = ';')"
   ]
  },
  {
   "cell_type": "code",
   "execution_count": 3,
   "metadata": {},
   "outputs": [],
   "source": [
    "# concatenar todos os arquivos :\n",
    "dataframes = [df2012, df2013, df2014, df2015, df2016, df2017, df2018, df2016, df2017, df2018,\n",
    "               df2019, df2020,df2021, df2022, df2023]\n",
    "dados = pd.concat(dataframes, ignore_index = True)"
   ]
  },
  {
   "cell_type": "code",
   "execution_count": 7,
   "metadata": {},
   "outputs": [],
   "source": [
    "#transformar a coluna database, de string para datatime\n",
    "dados['data_base'] = pd.to_datetime(dados['data_base'], format='%Y-%m-%d')\n",
    "# Deletar colunas desnecessárias para análise\n",
    "dados = dados.drop(columns=[ 'ocupacao', 'cnae_secao', 'cnae_subclasse', 'porte',\n",
    "'a_vencer_ate_90_dias', 'a_vencer_de_91_ate_360_dias', 'a_vencer_de_361_ate_1080_dias', \n",
    "'a_vencer_de_1081_ate_1800_dias','a_vencer_acima_de_5400_dias', 'vencido_acima_de_15_dias',\n",
    "])\n",
    "dados = dados.drop(columns=[ 'origem', 'indexador', 'numero_de_operacoes', 'a_vencer_de_1801_ate_5400_dias'])\n",
    "# transformar as colunas numéricas, que estão no formato string para float.\n",
    "## Os números estão separados por virgulas, por isto foi usado repleace para transformar virgula em ponto \n",
    "dados['carteira_ativa'] = dados['carteira_ativa'].str.replace(',', '.').astype(float)\n",
    "dados['carteira_inadimplida_arrastada'] = dados['carteira_inadimplida_arrastada'].str.replace(',', '.').astype(float)\n",
    "dados['ativo_problematico'] = dados['ativo_problematico'].str.replace(',', '.').astype(float)"
   ]
  },
  {
   "cell_type": "code",
   "execution_count": 8,
   "metadata": {},
   "outputs": [],
   "source": [
    "dados.to_csv('dataframe.csv')"
   ]
  }
 ],
 "metadata": {
  "kernelspec": {
   "display_name": "Python 3",
   "language": "python",
   "name": "python3"
  },
  "language_info": {
   "codemirror_mode": {
    "name": "ipython",
    "version": 3
   },
   "file_extension": ".py",
   "mimetype": "text/x-python",
   "name": "python",
   "nbconvert_exporter": "python",
   "pygments_lexer": "ipython3",
   "version": "3.11.5"
  },
  "orig_nbformat": 4
 },
 "nbformat": 4,
 "nbformat_minor": 2
}
